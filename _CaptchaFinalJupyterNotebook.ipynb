{
 "cells": [
  {
   "cell_type": "code",
   "execution_count": null,
   "metadata": {
    "colab": {
     "base_uri": "https://localhost:8080/",
     "height": 120
    },
    "colab_type": "code",
    "id": "VHHrsXweviT5",
    "outputId": "79ad3297-0b0f-4765-bf07-2585d4427761"
   },
   "outputs": [],
   "source": [
    "from google.colab import drive\n",
    "drive.mount('/content/drive')"
   ]
  },
  {
   "cell_type": "code",
   "execution_count": null,
   "metadata": {
    "colab": {
     "base_uri": "https://localhost:8080/",
     "height": 33
    },
    "colab_type": "code",
    "id": "PmyycleMv53Q",
    "outputId": "8dfe6f57-6e6e-41b5-b124-ffd0b82f0073"
   },
   "outputs": [],
   "source": [
    "%cd /content/drive/My Drive/Rubix captcha"
   ]
  },
  {
   "cell_type": "code",
   "execution_count": null,
   "metadata": {
    "colab": {},
    "colab_type": "code",
    "id": "qJNzMsKdwPVd"
   },
   "outputs": [],
   "source": [
    "import pandas as pd\n",
    "import numpy as np\n",
    "import cv2\n",
    "import glob\n",
    "import imutils\n",
    "from imutils import paths\n",
    "import os\n",
    "import os.path"
   ]
  },
  {
   "cell_type": "code",
   "execution_count": null,
   "metadata": {
    "colab": {},
    "colab_type": "code",
    "id": "rctCaqiOwR8T"
   },
   "outputs": [],
   "source": [
    "def get_sheet():\n",
    "  return pd.read_excel('Captcha.xlsx')"
   ]
  },
  {
   "cell_type": "code",
   "execution_count": null,
   "metadata": {
    "colab": {},
    "colab_type": "code",
    "id": "WQpXGu7TwUOz"
   },
   "outputs": [],
   "source": [
    "def get_image_names():\n",
    "  imgs_names=[os.path.basename(i) for i in glob.glob('CaptchaImageHighCourt/*')]\n",
    "  imgs_exts = [os.path.splitext(img_name) for img_name in imgs_names]\n",
    "  exts = set([i[1] for i in imgs_exts])\n",
    "  if len(exts)>1:\n",
    "    print(f'Multi format images available: {exts}')\n",
    "  else:\n",
    "    print(f'All images of: {exts} format')\n",
    "  return imgs_names, [int(i[0]) for i in imgs_exts]"
   ]
  },
  {
   "cell_type": "code",
   "execution_count": null,
   "metadata": {
    "colab": {},
    "colab_type": "code",
    "id": "L2hXINMrwW8G"
   },
   "outputs": [],
   "source": [
    "def get_labels(df, img_id,img_names):\n",
    "  merged = pd.DataFrame({'taskid':img_id}).merge(df, on='taskid')[['taskid','CaptchaResult','ResultStatus']]\n",
    "  return merged, merged.CaptchaResult, [str(i)+'.png' for i in merged.taskid]"
   ]
  },
  {
   "cell_type": "code",
   "execution_count": null,
   "metadata": {
    "colab": {
     "base_uri": "https://localhost:8080/",
     "height": 33
    },
    "colab_type": "code",
    "id": "sKDCODOEwqed",
    "outputId": "f830b99e-77ea-477c-acf3-2ec92ef65e95"
   },
   "outputs": [],
   "source": [
    "img_names, img_id = get_image_names()"
   ]
  },
  {
   "cell_type": "code",
   "execution_count": null,
   "metadata": {
    "colab": {
     "base_uri": "https://localhost:8080/",
     "height": 33
    },
    "colab_type": "code",
    "id": "3Q93OGvWwzFb",
    "outputId": "1a03e29f-7944-4b69-8432-8f50540374c7"
   },
   "outputs": [],
   "source": [
    "img = cv2.imread(os.path.join('CaptchaImageHighCourt', img_names[0]), cv2.IMREAD_GRAYSCALE)\n",
    "img = np.array(img, dtype=np.uint8)\n",
    "img.dtype"
   ]
  },
  {
   "cell_type": "code",
   "execution_count": null,
   "metadata": {
    "colab": {},
    "colab_type": "code",
    "id": "TghBXLZGw2VJ"
   },
   "outputs": [],
   "source": [
    "df = get_sheet()"
   ]
  },
  {
   "cell_type": "code",
   "execution_count": null,
   "metadata": {
    "colab": {
     "base_uri": "https://localhost:8080/",
     "height": 197
    },
    "colab_type": "code",
    "id": "g5oZ5I5zw6ai",
    "outputId": "1579e4f1-4b0d-429d-fed9-821b0aeb3bdc"
   },
   "outputs": [],
   "source": [
    "df.head()"
   ]
  },
  {
   "cell_type": "code",
   "execution_count": null,
   "metadata": {
    "colab": {
     "base_uri": "https://localhost:8080/",
     "height": 1000
    },
    "colab_type": "code",
    "id": "vA2gC96cw9E_",
    "outputId": "6edc7960-7310-4db4-cf81-fd8712cbd9be"
   },
   "outputs": [],
   "source": [
    "SOLVED_CAPTCHA_FOLDER = \"/content/drive/My Drive/Rubix captcha/CaptchaImageHighCourt\"\n",
    "OUTPUT_FOLDER = \"/content/drive/My Drive/Rubix captcha/Output2/CaptchaImageHighCourt\"\n",
    "\n",
    "\n",
    "# Get the path of all the solved captcha images\n",
    "solved_captchas = glob.glob(os.path.join(SOLVED_CAPTCHA_FOLDER, \"*\"))\n",
    "counts = {}\n",
    "\n",
    "# loop over the image paths\n",
    "for (i, captcha) in enumerate(solved_captchas):\n",
    "    print(\"processing image {}/{}\".format(i + 1, len(solved_captchas)))\n",
    "\n",
    "    \n",
    "    # grab the base filename as the text\n",
    "    filename = os.path.basename(captcha)\n",
    "    taskid1 = os.path.splitext(filename)[0]\n",
    "    taskid2 = int(taskid1)\n",
    "    for index, row in df.iterrows():\n",
    "      if row[\"taskid\"]==taskid2 :\n",
    "        captcha_text=row[\"CaptchaResult\"]\n",
    " \n",
    "\n",
    "    # Load the image and convert it to grayscale\n",
    "    image = cv2.imread(captcha)\n",
    "    gray = cv2.cvtColor(image, cv2.COLOR_BGR2GRAY)\n",
    "    \n",
    "    # Add some extra padding around the image\n",
    "    gray = cv2.copyMakeBorder(gray, 8, 8, 8, 8, cv2.BORDER_REPLICATE)\n",
    "\n",
    "    # applying threshold\n",
    "    thresh = cv2.threshold(gray, 127, 255, cv2.THRESH_BINARY_INV, cv2.THRESH_OTSU)[1]\n",
    "\n",
    "     # finding the contours\n",
    "    contours, hierarchy = cv2.findContours(thresh.copy(), cv2.RETR_EXTERNAL, cv2.CHAIN_APPROX_SIMPLE)\n",
    "\n",
    "    # creating empty list for holding the coordinates of the letters\n",
    "    letter_image_regions = []\n",
    "\n",
    "    # Now we will loop through each of the contours and extract the letter\n",
    "    for contour in contours:\n",
    "        # Get the rectangle that contains the contour\n",
    "        (x, y, w, h) = cv2.boundingRect(contour)\n",
    "        \n",
    "        # checking if any counter is too wide\n",
    "        # if countour is too wide then there could be two letters joined together or are very close to each other\n",
    "        if w / h > 1.25:\n",
    "            # Split it in half into two letter regions\n",
    "            half_width = int(w / 2)\n",
    "            letter_image_regions.append((x, y, half_width, h))\n",
    "            letter_image_regions.append((x + half_width, y, half_width, h))\n",
    "        else:\n",
    "            \n",
    "            letter_image_regions.append((x, y, w, h))\n",
    "            \n",
    "\n",
    "    \n",
    "    # Sort the detected letter images based on the x coordinate to make sure\n",
    "    # we get them from left-to-right so that we match the right image with the right letter\n",
    "    letter_image_regions = sorted(letter_image_regions, key=lambda x: x[0])\n",
    "    \n",
    "    # Save each letter as a single image\n",
    "    for letter_bounding_box, letter_text in zip(letter_image_regions, captcha_text):\n",
    "        # Grab the coordinates of the letter in the image\n",
    "        x, y, w, h = letter_bounding_box\n",
    "\n",
    "        # Extract the letter from the original image with a 2-pixel margin around the edge\n",
    "        letter_image = gray[y - 2:y + h + 2, x - 2:x + w + 2]\n",
    "\n",
    "\n",
    "        # Get the folder to save the image in\n",
    "        save_path = os.path.join(OUTPUT_FOLDER, letter_text)\n",
    "\n",
    "        # creating different output folder for storing different letters\n",
    "        if not os.path.exists(save_path):\n",
    "            os.makedirs(save_path)\n",
    "\n",
    "        # write the letter image to a file\n",
    "        count = counts.get(letter_text, 1)\n",
    "        p = os.path.join(save_path, \"{}.png\".format(str(count)))\n",
    "        cv2.imwrite(p, letter_image)\n",
    "\n",
    "        # increment the count\n",
    "        counts[letter_text] = count + 1"
   ]
  },
  {
   "cell_type": "code",
   "execution_count": null,
   "metadata": {
    "colab": {},
    "colab_type": "code",
    "id": "knEOADgtxKUd"
   },
   "outputs": [],
   "source": [
    "letter_folder = OUTPUT_FOLDER\n",
    "#creating empty lists for storing image data and labels\n",
    "data = []\n",
    "labels = []\n",
    "for image in paths.list_images(letter_folder):\n",
    "    img = cv2.imread(image)\n",
    "    img = cv2.cvtColor(img, cv2.COLOR_BGR2GRAY)\n",
    "    img = cv2.resize(img, (30,30))\n",
    "    \n",
    "    # adding a 3rd dimension to the image\n",
    "    img = np.expand_dims(img, axis = 2)\n",
    "    \n",
    "    #grabing the name of the letter based on the folder it is present in\n",
    "    label = image.split(os.path.sep)[-2]\n",
    "    \n",
    "    # appending to the empty lists\n",
    "    data.append(img)\n",
    "    labels.append(label)\n",
    "\n",
    "#converting data and labels to np array\n",
    "data = np.array(data, dtype = \"float\")\n",
    "labels = np.array(labels)"
   ]
  },
  {
   "cell_type": "code",
   "execution_count": null,
   "metadata": {
    "colab": {},
    "colab_type": "code",
    "id": "b2TgCM5X3eQ5"
   },
   "outputs": [],
   "source": [
    "#scaling the values of  data between 0 and 1\n",
    "data = data/255.0\n",
    "\n",
    "# Split the training data into separate train and test sets\n",
    "from sklearn.model_selection import train_test_split\n",
    "(train_x, val_x, train_y, val_y) = train_test_split(data, labels, test_size=0.2, random_state=0)\n",
    "\n",
    "#one hot encoding\n",
    "from sklearn.preprocessing import LabelBinarizer\n",
    "lb = LabelBinarizer().fit(train_y)\n",
    "train_y = lb.transform(train_y)\n",
    "val_y = lb.transform(val_y)"
   ]
  },
  {
   "cell_type": "code",
   "execution_count": null,
   "metadata": {
    "colab": {},
    "colab_type": "code",
    "id": "_OMebLlH3rDZ"
   },
   "outputs": [],
   "source": [
    "from keras.models import Sequential\n",
    "from keras.layers.convolutional import Conv2D, MaxPooling2D\n",
    "from keras.layers.core import Flatten, Dense, Dropout\n",
    "from keras.callbacks import EarlyStopping\n",
    "\n",
    "#building model\n",
    "model = Sequential()\n",
    "model.add(Conv2D(20, (5, 5), padding=\"same\", input_shape=(30, 30, 1), activation=\"relu\"))\n",
    "model.add(MaxPooling2D(pool_size=(2, 2), strides=(2, 2)))\n",
    "model.add(Conv2D(50, (5, 5), padding=\"same\", activation=\"relu\"))\n",
    "model.add(MaxPooling2D(pool_size=(2, 2), strides=(2, 2)))\n",
    "model.add(Conv2D(50, (5, 5), padding=\"same\", activation=\"relu\"))\n",
    "model.add(MaxPooling2D(pool_size=(2, 2), strides=(2, 2)))\n",
    "model.add(Flatten())\n",
    "model.add(Dense(128, activation=\"relu\"))\n",
    "model.add(Dense(64, activation=\"relu\"))\n",
    "model.add(Dense(32, activation=\"relu\"))\n",
    "model.add(Dropout(0.3))\n",
    "model.add(Dense(57, activation=\"softmax\"))\n",
    "\n",
    "model.compile(loss=\"categorical_crossentropy\", optimizer=\"adam\", metrics=[\"accuracy\"])"
   ]
  },
  {
   "cell_type": "code",
   "execution_count": null,
   "metadata": {
    "colab": {
     "base_uri": "https://localhost:8080/",
     "height": 1000
    },
    "colab_type": "code",
    "id": "1De-QBDw4Aus",
    "outputId": "cacd9c61-8ae0-4646-b194-77077aa8b132"
   },
   "outputs": [],
   "source": [
    "# using early stoping for avoiding overfitting\n",
    "\n",
    "model.fit(train_x, train_y, validation_data=(val_x, val_y), batch_size=32, epochs=100, verbose=1)"
   ]
  },
  {
   "cell_type": "code",
   "execution_count": null,
   "metadata": {
    "colab": {
     "base_uri": "https://localhost:8080/",
     "height": 550
    },
    "colab_type": "code",
    "id": "y2j8dCDd4M2V",
    "outputId": "73154d03-ccf0-443c-8010-7d1f6b2ed8a3"
   },
   "outputs": [],
   "source": [
    "# using early stoping for avoiding overfitting\n",
    "estop = EarlyStopping(patience=10, mode='min', min_delta=0.001, monitor='val_loss')\n",
    "\n",
    "model.fit(train_x, train_y, validation_data=(val_x, val_y), batch_size=32, epochs=100, verbose=1, callbacks = [estop])"
   ]
  },
  {
   "cell_type": "code",
   "execution_count": null,
   "metadata": {
    "colab": {},
    "colab_type": "code",
    "id": "u0_-CfbQ54Db"
   },
   "outputs": [],
   "source": []
  }
 ],
 "metadata": {
  "accelerator": "GPU",
  "colab": {
   "collapsed_sections": [],
   "name": "CaptchaFinal",
   "provenance": []
  },
  "kernelspec": {
   "display_name": "Python 3",
   "language": "python",
   "name": "python3"
  },
  "language_info": {
   "codemirror_mode": {
    "name": "ipython",
    "version": 3
   },
   "file_extension": ".py",
   "mimetype": "text/x-python",
   "name": "python",
   "nbconvert_exporter": "python",
   "pygments_lexer": "ipython3",
   "version": "3.7.3"
  }
 },
 "nbformat": 4,
 "nbformat_minor": 1
}
